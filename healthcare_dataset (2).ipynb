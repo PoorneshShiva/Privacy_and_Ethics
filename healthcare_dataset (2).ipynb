{
 "cells": [
  {
   "cell_type": "markdown",
   "metadata": {},
   "source": [
    "# Healthcare Outcome Predictor Model Card\n",
    "\n",
    "## Model Details\n",
    "\n",
    "- **Developers**: Karan Pawar, Vijay Haritsa Sanath, Poornesh Shiva, Shahriari Zadeh Fatemeh, Eswar Peddinti\n",
    "- **Model Date**: September 2024\n",
    "- **Model Version**: v1.0\n",
    "- **Model Type**: Random Forest Classifier\n",
    "- **Language**: English\n",
    "- **License**: [Creative Commons Attribution 4.0 International License (CC BY 4.0)](https://creativecommons.org/licenses/by/4.0/)\n",
    "\n",
    "### Model Description:\n",
    "The **Healthcare Outcome Predictor** uses a **Random Forest** model to predict healthcare outcomes from patient data. The model analyzes key healthcare features, such as age, medical conditions, and test results, to predict patient health risks. SHAP-based **Explainable AI (XAI)** is applied to make the model more interpretable by identifying the contribution of each feature to the model's predictions.\n",
    "\n",
    "- **SHAP**: SHAP values are used to explain the output of the model, providing a global and local interpretation of feature importance. This makes the model's decision-making process transparent for healthcare professionals.\n",
    "- **Dataset**: Healthcare Dataset on Kaggle\n",
    "- **Purpose**: The model is intended for use by healthcare professionals and researchers to provide data-driven insights into patient outcomes. It is not designed for clinical decision-making without appropriate human oversight.\n",
    "\n",
    "---\n",
    "\n",
    "## Explainable AI (XAI)\n",
    "\n",
    "### SHAP:\n",
    "We applied **SHAP** values to interpret the **Random Forest** model. SHAP assigns each feature an important value for each individual prediction, allowing us to better understand the impact of individual features on the predicted healthcare outcomes.\n",
    "\n",
    "- **Global Interpretation**: SHAP values provide a global feature importance ranking for the overall model, indicating which features are most influential in predicting patient outcomes.\n",
    "- **Local Interpretation**: SHAP also allows for local interpretations, explaining why a specific prediction was made for an individual patient based on their unique set of healthcare features.\n",
    "\n",
    "By leveraging SHAP, we can ensure transparency in how the model makes predictions, improving trust in the model's decisions when used by healthcare professionals. This is especially important in healthcare applications where explainability is critical.\n",
    "\n",
    "---\n",
    "\n",
    "## Intended Use\n",
    "\n",
    "- **Primary Use**: The model is intended to predict healthcare outcomes, specifically identifying possible health risks based on patient data. It is suited for use by healthcare professionals to complement clinical judgment.\n",
    "- **Out-of-Scope Use**: This model should not be used for autonomous decision-making in healthcare contexts or outside the healthcare domain without proper retraining and validation.\n",
    "\n",
    "---\n",
    "\n",
    "## Factors\n",
    "\n",
    "- **Relevant Factors**:\n",
    "   - The model performs predictions based on patient demographic and health-related features, including age, medical condition, and test results.\n",
    "   - Factors like age or pre-existing medical conditions may significantly impact the accuracy of predictions.\n",
    "- **Evaluation Factors**:\n",
    "   - The model was evaluated on a healthcare dataset that included anonymized patient information, primarily focusing on three classes representing different health conditions (e.g., hypertension, diabetes, arthritis).\n",
    "\n",
    "---\n",
    "\n",
    "## Metrics\n",
    "\n",
    "- **Model Performance**:\n",
    "   - **Accuracy**: 43.85%\n",
    "   - **Precision**: 44% (weighted across all classes)\n",
    "   - **Recall**: 44% (weighted across all classes)\n",
    "   - **F1-Score**: 44% (weighted across all classes)\n",
    "- **Evaluation Approach**:\n",
    "   - Model performance was measured using precision, recall, F1-score, and overall accuracy. Evaluation was performed on 30% of the dataset, which was set aside for testing.\n",
    "\n",
    "---\n",
    "\n",
    "## Evaluation Data\n",
    "\n",
    "- **Dataset Source**: The model was evaluated using the **Healthcare Dataset** from Kaggle. The dataset contains anonymized patient data, which includes key demographic and health metrics.\n",
    "- **Preprocessing**: Data preprocessing steps included anonymization, normalization, and the conversion of categorical data into numerical formats.\n",
    "- **Challenges**: The dataset contains diverse healthcare data, which may lead to variability in the model’s performance based on the distribution of different health conditions.\n",
    "\n",
    "---\n",
    "\n",
    "## Training Data\n",
    "\n",
    "- **Dataset Source**: The **Healthcare Dataset** from Kaggle was used for training. It includes anonymized patient data, containing key demographic information (e.g., age, gender) and health metrics (e.g., medical conditions and test results).\n",
    "- **Preprocessing**:\n",
    "   - Personal identifiers were removed to ensure privacy compliance.\n",
    "   - Data was normalized, and categorical variables were converted to numerical forms.\n",
    "\n",
    "---\n",
    "\n",
    "## Quantitative Analysis\n",
    "\n",
    "The **Random Forest** model was evaluated using various performance metrics, and the results are summarized below:\n",
    "\n",
    "- **Accuracy**: 43.85%\n",
    "- **Precision**: 44% (weighted across all classes)\n",
    "- **Recall**: 44% (weighted across all classes)\n",
    "- **F1-Score**: 44% (weighted across all classes)\n",
    "\n",
    "### Group-wise Performance:\n",
    "The model's performance was consistent across various patient demographics and health conditions:\n",
    "\n",
    "- **Precision for Class 0 (e.g., Hypertension)**: 44%\n",
    "- **Precision for Class 1 (e.g., Diabetes)**: 44%\n",
    "- **Precision for Class 2 (e.g., Arthritis)**: 44%\n",
    "- **Recall for Class 0**: 45%\n",
    "- **Recall for Class 1**: 43%\n",
    "- **Recall for Class 2**: 44%\n",
    "\n",
    "---\n",
    "\n",
    "## Ethical Considerations and Risk Management\n",
    "\n",
    "### GDPR Compliance and Data Protection\n",
    "\n",
    "- **Data Anonymization**: All patient data used in this model was anonymized, ensuring no personally identifiable information (PII) is included, in compliance with **GDPR** regulations.\n",
    "- **Data Protection Impact Assessment (DPIA)**: As required under **GDPR Article 35**, a Data Protection Impact Assessment was conducted to identify and mitigate potential risks to patient privacy. Given the high-risk nature of processing healthcare data, encryption, transparency, and patient consent were prioritized.\n",
    "  - **Risk**: Unauthorized access, incorrect profiling, and potential discrimination.\n",
    "  - **Mitigation**: Encryption was applied to sensitive data, and access controls were implemented to restrict unauthorized access. Additionally, consent management tools and transparency mechanisms were incorporated to ensure patient data protection.\n",
    "\n",
    "### High-Risk Classification for Healthcare Data\n",
    "\n",
    "1. **High Risk**:\n",
    "   - **Example**: AI systems used for predictive medical diagnostics or determining treatment eligibility.\n",
    "   - **Risk**: Incorrect diagnosis or profiling can adversely affect patient health and freedoms.\n",
    "   - **Mitigation**: Regular risk assessments (such as DPIAs) are conducted, and the model is not used for autonomous decision-making without expert oversight.\n",
    "\n",
    "---\n",
    "\n",
    "## Risk Management Standards\n",
    "\n",
    "- **ISO Guidelines on AI Risk Management (ISO/IEC 23894)**:\n",
    "  - **Risk Identification**:\n",
    "    - **Assets**: Patient data, medical records.\n",
    "    - **Risk Sources**: Unauthorized access, AI misjudgment.\n",
    "    - **Outcomes**: Data loss, incorrect medical decisions.\n",
    "    - **Controls**: Encryption, consent management.\n",
    "    - **Consequences**: Legal penalties, patient harm.\n",
    "\n",
    "---\n",
    "\n",
    "## Recommendations\n",
    "\n",
    "- **Generalizability**: The model's performance may vary when used on datasets outside the training dataset, particularly if applied to rare health conditions or different demographic distributions.\n",
    "- **Underrepresented Conditions**: Some medical conditions or demographics may not be adequately represented in the training data, which could affect prediction accuracy for these groups.\n",
    "- **False Positives/Negatives**: There is a risk of false predictions (both positive and negative) due to variability in the data. Therefore, healthcare professionals should always validate the results before making decisions.\n",
    "- **Future Improvements**: Further work should include testing on more diverse datasets to mitigate any potential biases and improve the generalizability of the model across underrepresented groups.\n",
    "\n",
    "---\n",
    "\n",
    "## References\n",
    "\n",
    "1. [Healthcare Dataset on Kaggle](https://www.kaggle.com/datasets/prasad22/healthcare-dataset?resource=download)\n",
    "2. M. Mitchell, S. Wu, A. Zaldivar, P. Barnes, L. Vasserman, B. Hutchinson, E. Spitzer, I.D. Raji, T. Gebru. 2019. \"Model Cards for Model Reporting,\" In Proceedings of the Conference on Fairness, Accountability, and Transparency (FAT*), ACM, New York, NY, USA. https://arxiv.org/pdf/1810.03993\n",
    "3. TensorFlow. \"Model Card Toolkit.\" Accessed September 2024. https://github.com/tensorflow/model-card-toolkit?tab=readme-ov-file\n",
    "4. B. Dayma, S. Patil, P. Cuenca, K. Saifullah, T. Abraham, P. Lê Khắc, L. Melas, R. Ghosh. \"DALL·E Mini,\" 2021. https://github.com/borisdayma/dalle-mini"
   ]
  },
  {
   "cell_type": "code",
   "execution_count": 5,
   "metadata": {},
   "outputs": [],
   "source": [
    "import pandas as pd\n",
    "from sklearn.model_selection import train_test_split\n",
    "from sklearn.preprocessing import LabelEncoder\n",
    "from sklearn.svm import SVC\n",
    "from sklearn.metrics import accuracy_score, classification_report, confusion_matrix, ConfusionMatrixDisplay\n",
    "from sklearn.preprocessing import StandardScaler\n",
    "import pickle\n",
    "from pathlib import Path\n",
    "import matplotlib.pyplot as plt\n",
    "import numpy as np\n",
    "import copy\n",
    "from sklearn.ensemble import RandomForestClassifier\n",
    "from xgboost import XGBClassifier\n",
    "\n",
    "pd.set_option('future.no_silent_downcasting', True)"
   ]
  },
  {
   "cell_type": "code",
   "execution_count": 6,
   "metadata": {},
   "outputs": [],
   "source": [
    "data_path = r'C:\\Users\\User\\Desktop\\shashankbaraicollege\\AI_Ethics\\archive (8)\\healthcare_dataset.csv'"
   ]
  },
  {
   "cell_type": "markdown",
   "metadata": {},
   "source": [
    "# PRIVACY ENHANCING METHODS"
   ]
  },
  {
   "cell_type": "code",
   "execution_count": 51,
   "metadata": {},
   "outputs": [],
   "source": [
    "class Pipeline:\n",
    "    def __init__(self):\n",
    "        None\n",
    "\n",
    "    def processs_data(self, X, scaler_name=None, mask=False):\n",
    "\n",
    "        df = copy.deepcopy(X)\n",
    "        \n",
    "        df['Days Spent'] = (pd.to_datetime(df['Discharge Date']) - pd.to_datetime(df['Date of Admission'])).dt.days\n",
    "\n",
    "        if Path(scaler_name).exists(): scaler = pickle.load(open(scaler_name, 'rb'))\n",
    "        else: scaler = StandardScaler()\n",
    "\n",
    "        # drop columns with sensitive information\n",
    "        df.drop(['Name','Date of Admission','Room Number','Discharge Date','Doctor','Insurance Provider','Hospital'],axis=1,inplace=True)\n",
    "        \n",
    "        # excrypt personal information\n",
    "        if mask:\n",
    "            blood_type_map_dict={'A+': 'BT1', 'B-': 'BT2', 'O+': 'BT3', 'AB-': 'BT4', 'O-': 'BT5', 'B+': 'BT6', 'A-': 'BT7', 'AB+': 'BT8'}\n",
    "            df['Blood Type'] = df['Blood Type'].map(blood_type_map_dict)\n",
    "\n",
    "            medical_condition_map_dict={'Cancer': 'MC1', 'Obesity': 'MC2', 'Diabetes': 'MC3', 'Asthma': 'MC4', 'Hypertension': 'MC5', 'Arthritis': 'MC6'}\n",
    "            df['Medical Condition'] = df['Medical Condition'].map(medical_condition_map_dict)\n",
    "\n",
    "        # Apply one-hot encoding\n",
    "        categorical_columns = df.select_dtypes(include=['object', 'category']).columns.tolist()\n",
    "\n",
    "        df = pd.get_dummies(df, columns=categorical_columns, drop_first=True)\n",
    "\n",
    "        df.replace({False: 0, True: 1}, inplace=True)\n",
    "\n",
    "        # Apply transform\n",
    "        if Path(scaler_name).exists():\n",
    "            missing_colls = list(set(scaler.feature_names_in_)-set(df.columns))\n",
    "            if missing_colls:\n",
    "                for col in missing_colls:\n",
    "                    df[col] = 0\n",
    "            df = df[scaler.feature_names_in_]\n",
    "            df = scaler.transform(df)\n",
    "        else: \n",
    "            df = scaler.fit_transform(df)\n",
    "            pickle.dump(scaler, open(scaler_name, 'wb'))\n",
    "\n",
    "        return df\n",
    "    \n",
    "def split_train_test(X, y, test_size=0.2, random_state=42):\n",
    "    return train_test_split(X, y, test_size=test_size, random_state=random_state, stratify=y)   \n",
    "\n",
    "def train_rf_model(X_train, y_train):\n",
    "    rf_model = RandomForestClassifier(n_estimators=500, random_state=12, max_depth=1000)\n",
    "    rf_model.fit(X_train, y_train)\n",
    "    return rf_model\n",
    "\n",
    "def train_xgb_model(X_train, y_train):\n",
    "    xgb_model = XGBClassifier(use_label_encoder=False, eval_metric='mlogloss')\n",
    "    xgb_model.fit(X_train, y_train)\n",
    "    return xgb_model\n",
    "\n",
    "def evaluate_model(model, X_test, y_test):\n",
    "    y_pred = model.predict(X_test)\n",
    "    accuracy = accuracy_score(y_test, y_pred)\n",
    "    print(f\"Accuracy: {accuracy * 100:.2f}%\")\n",
    "    print('Classification Report:')\n",
    "    print(classification_report(y_test, y_pred))"
   ]
  },
  {
   "cell_type": "code",
   "execution_count": 52,
   "metadata": {},
   "outputs": [],
   "source": [
    "df = pd.read_csv(data_path)\n",
    "target_column = 'Test Results'\n",
    "\n",
    "le = LabelEncoder()\n",
    "df[target_column] = le.fit_transform(df[target_column])\n",
    "\n",
    "X = df.drop(target_column, axis=1)\n",
    "y = df[target_column].to_numpy()\n",
    "\n",
    "X_train, X_test, y_train, y_test = split_train_test(X, y)\n",
    "\n",
    "data_pipeline = Pipeline()"
   ]
  },
  {
   "cell_type": "markdown",
   "metadata": {},
   "source": [
    "---"
   ]
  },
  {
   "cell_type": "code",
   "execution_count": null,
   "metadata": {},
   "outputs": [],
   "source": []
  },
  {
   "cell_type": "markdown",
   "metadata": {},
   "source": [
    "## 1. PSEUDONYMIZATION\n",
    "\n",
    "‘Pseudonymisation’ means the processing of personal data in such a manner that the personal data can no longer be attributed to a specific data subject without the use of additional information\n",
    "\n",
    "### Pseudonymization through storing identifiable information separately\n",
    "\n",
    "Attributes which can be used to identify a person are not being used for the analysis.\n",
    "- Name\n",
    "- Date of Admission\n",
    "- Room Number\n",
    "- Discharge Date\n",
    "- Doctor\n",
    "- Insurance Provider\n",
    "- Hospital"
   ]
  },
  {
   "cell_type": "code",
   "execution_count": 11,
   "metadata": {},
   "outputs": [
    {
     "name": "stdout",
     "output_type": "stream",
     "text": [
      "Accuracy: 43.85%\n",
      "Classification Report:\n",
      "              precision    recall  f1-score   support\n",
      "\n",
      "           0       0.44      0.45      0.44      3726\n",
      "           1       0.44      0.43      0.43      3671\n",
      "           2       0.44      0.44      0.44      3703\n",
      "\n",
      "    accuracy                           0.44     11100\n",
      "   macro avg       0.44      0.44      0.44     11100\n",
      "weighted avg       0.44      0.44      0.44     11100\n",
      "\n"
     ]
    }
   ],
   "source": [
    "unmasked_scaler_name = 'scaler_unmasked.pkl'\n",
    "unmasked_model_name = 'rf_unmasked.pkl'\n",
    "\n",
    "X_train_unmasked = data_pipeline.processs_data(X_train, unmasked_scaler_name)\n",
    "X_test_unmasked = data_pipeline.processs_data(X_test, unmasked_scaler_name)\n",
    "\n",
    "if Path(unmasked_model_name).exists():\n",
    "    model_unmasked = pickle.load(open(unmasked_model_name, 'rb'))\n",
    "else:\n",
    "    model_unmasked = train_rf_model(X_train_unmasked, y_train)\n",
    "    pickle.dump(model_unmasked, open(unmasked_model_name, 'wb'))\n",
    "\n",
    "evaluate_model(model_unmasked, X_test_unmasked, y_test)"
   ]
  },
  {
   "cell_type": "markdown",
   "metadata": {},
   "source": [
    "---"
   ]
  },
  {
   "cell_type": "markdown",
   "metadata": {},
   "source": [
    "## 2. ANONYMIZATION\n",
    "\n",
    "“Information which does not relate to an identified or identifiable natural person or to personal data rendered anonymous in such a manner that the data subject is not or no longer identifiable”\n",
    "\n",
    "### Encryption:\n",
    "\n",
    "By passing `mask=True` during the data processing, we perform substitution to replace some data with list of fake data. Thus we transform personal data into another form such that its unreadable for unauthorized users.\n",
    "- Blood Type\n",
    "- Medical Condition"
   ]
  },
  {
   "cell_type": "code",
   "execution_count": 12,
   "metadata": {},
   "outputs": [
    {
     "name": "stdout",
     "output_type": "stream",
     "text": [
      "Accuracy: 44.18%\n",
      "Classification Report:\n",
      "              precision    recall  f1-score   support\n",
      "\n",
      "           0       0.44      0.46      0.45      3726\n",
      "           1       0.44      0.43      0.43      3671\n",
      "           2       0.44      0.44      0.44      3703\n",
      "\n",
      "    accuracy                           0.44     11100\n",
      "   macro avg       0.44      0.44      0.44     11100\n",
      "weighted avg       0.44      0.44      0.44     11100\n",
      "\n"
     ]
    }
   ],
   "source": [
    "masked_scaler_name = 'scaler_masked.pkl'\n",
    "masked_model_name = 'rf_masked.pkl'\n",
    "\n",
    "X_train_masked = data_pipeline.processs_data(X_train, masked_scaler_name, mask=True)\n",
    "X_test_masked = data_pipeline.processs_data(X_test, masked_scaler_name, mask=True)\n",
    "\n",
    "if Path(masked_model_name).exists():\n",
    "    masked_model = pickle.load(open(masked_model_name, 'rb'))\n",
    "else:\n",
    "    masked_model = train_rf_model(X_train_masked, y_train)\n",
    "    pickle.dump(masked_model, open(masked_model_name, 'wb'))\n",
    "\n",
    "evaluate_model(masked_model, X_test_masked, y_test)"
   ]
  },
  {
   "cell_type": "markdown",
   "metadata": {},
   "source": []
  },
  {
   "cell_type": "code",
   "execution_count": 56,
   "metadata": {},
   "outputs": [],
   "source": [
    "\n",
    "#Explainable AI\n",
    "import shap\n",
    "\n",
    "# Initialize SHAP Explainer for Random Forest\n",
    "explainer_rf = shap.TreeExplainer(final_rf_model)\n",
    "shap_values_rf = explainer_rf.shap_values(X_test_masked)\n",
    "\n",
    "# Global feature importance for Random Forest\n",
    "print(\"Random Forest - SHAP Global Explanation\")\n",
    "shap.summary_plot(shap_values_rf[1], X_test_masked)\n",
    "\n",
    "# Initialize SHAP Explainer for XGBoost\n",
    "explainer_xgb = shap.TreeExplainer(final_xgb_model)\n",
    "shap_values_xgb = explainer_xgb.shap_values(X_test_masked)\n",
    "\n",
    "# Global feature importance for XGBoost\n",
    "print(\"XGBoost - SHAP Global Explanation\")\n",
    "shap.summary_plot(shap_values_xgb, X_test_masked)\n"
   ]
  },
  {
   "cell_type": "code",
   "execution_count": 13,
   "metadata": {},
   "outputs": [
    {
     "name": "stderr",
     "output_type": "stream",
     "text": [
      "c:\\Users\\User\\AppData\\Local\\Programs\\Python\\Python312\\Lib\\site-packages\\xgboost\\core.py:158: UserWarning: [18:50:52] WARNING: C:\\buildkite-agent\\builds\\buildkite-windows-cpu-autoscaling-group-i-0015a694724fa8361-1\\xgboost\\xgboost-ci-windows\\src\\learner.cc:740: \n",
      "Parameters: { \"use_label_encoder\" } are not used.\n",
      "\n",
      "  warnings.warn(smsg, UserWarning)\n"
     ]
    },
    {
     "name": "stdout",
     "output_type": "stream",
     "text": [
      "Accuracy: 36.29%\n",
      "Classification Report:\n",
      "              precision    recall  f1-score   support\n",
      "\n",
      "           0       0.36      0.38      0.37      3726\n",
      "           1       0.37      0.34      0.36      3671\n",
      "           2       0.36      0.36      0.36      3703\n",
      "\n",
      "    accuracy                           0.36     11100\n",
      "   macro avg       0.36      0.36      0.36     11100\n",
      "weighted avg       0.36      0.36      0.36     11100\n",
      "\n"
     ]
    }
   ],
   "source": [
    "unmasked_xgb_model = 'xgb_final.pkl'\n",
    "\n",
    "if Path(unmasked_xgb_model).exists():\n",
    "    final_xgb_model = pickle.load(open(unmasked_xgb_model, 'rb'))\n",
    "else:\n",
    "    final_xgb_model = train_xgb_model(X_train_masked, y_train)\n",
    "    pickle.dump(final_xgb_model, open(unmasked_xgb_model, 'wb'))\n",
    "\n",
    "evaluate_model(final_xgb_model, X_test_masked, y_test)"
   ]
  },
  {
   "cell_type": "code",
   "execution_count": 14,
   "metadata": {},
   "outputs": [],
   "source": [
    "# WE WILL USE THIS MODEL\n",
    "\n",
    "final_rf_model = copy.deepcopy(masked_model)\n",
    "pickle.dump(final_rf_model, open('rf_final.pkl', 'wb'))"
   ]
  },
  {
   "cell_type": "markdown",
   "metadata": {},
   "source": [
    "---"
   ]
  },
  {
   "cell_type": "markdown",
   "metadata": {},
   "source": [
    "# FAIRNESS"
   ]
  },
  {
   "cell_type": "code",
   "execution_count": 15,
   "metadata": {},
   "outputs": [],
   "source": [
    "df = pd.read_csv(data_path)\n",
    "target_column = 'Test Results'\n",
    "\n",
    "le = LabelEncoder()\n",
    "df[target_column] = le.fit_transform(df[target_column])\n",
    "\n",
    "X = df.drop(target_column, axis=1)\n",
    "y = df[target_column].to_numpy()\n",
    "\n",
    "X_M = X[X['Gender']=='Male']\n",
    "X_F = X[X['Gender']=='Female']\n",
    "y_m = df[df['Gender']=='Male'][target_column].to_numpy()\n",
    "y_f = df[df['Gender']=='Female'][target_column].to_numpy()\n",
    "\n",
    "X_train_M, X_test_M, y_train_m, y_test_m = split_train_test(X_M, y_m)\n",
    "\n",
    "X_train_F, X_test_F, y_train_f, y_test_f = split_train_test(X_F, y_f)\n",
    "\n",
    "data_pipeline = Pipeline()"
   ]
  },
  {
   "cell_type": "code",
   "execution_count": 16,
   "metadata": {},
   "outputs": [],
   "source": [
    "X_test_M_masked = data_pipeline.processs_data(X_test_M, masked_scaler_name, mask=True)\n",
    "X_test_F_masked = data_pipeline.processs_data(X_test_F, masked_scaler_name, mask=True)\n",
    "\n",
    "y_pred_rf_m = final_rf_model.predict(X_test_M_masked)\n",
    "y_pred_rf_f = final_rf_model.predict(X_test_F_masked)\n",
    "\n",
    "y_pred_xgb_m = final_xgb_model.predict(X_test_M_masked)\n",
    "y_pred_xgb_f = final_xgb_model.predict(X_test_F_masked)"
   ]
  },
  {
   "cell_type": "code",
   "execution_count": 17,
   "metadata": {},
   "outputs": [],
   "source": [
    "cm_rf_male = confusion_matrix(y_test_m, y_pred_rf_m)\n",
    "cm_rf_female = confusion_matrix(y_test_f, y_pred_rf_f)\n",
    "\n",
    "cm_xgb_male = confusion_matrix(y_test_m, y_pred_xgb_m)\n",
    "cm_xgb_female = confusion_matrix(y_test_f, y_pred_xgb_f)"
   ]
  },
  {
   "cell_type": "markdown",
   "metadata": {},
   "source": [
    "### CONFUSION MATRIX FOR MALE AND FEMALE (RF MODEL)"
   ]
  },
  {
   "cell_type": "code",
   "execution_count": 18,
   "metadata": {},
   "outputs": [
    {
     "name": "stdout",
     "output_type": "stream",
     "text": [
      "MALE\n"
     ]
    },
    {
     "data": {
      "image/png": "[encoded data removed]",
      "text/plain": [
       "<Figure size 640x480 with 2 Axes>"
      ]
     },
     "metadata": {},
     "output_type": "display_data"
    }
   ],
   "source": [
    "cm_display = ConfusionMatrixDisplay(confusion_matrix = cm_rf_male, display_labels = le.classes_)\n",
    "print('MALE')\n",
    "cm_display.plot()\n",
    "plt.show()"
   ]
  },
  {
   "cell_type": "code",
   "execution_count": 19,
   "metadata": {},
   "outputs": [
    {
     "name": "stdout",
     "output_type": "stream",
     "text": [
      "FEMALE\n"
     ]
    },
    {
     "data": {
      "image/png": "[encoded data removed]",
      "text/plain": [
       "<Figure size 640x480 with 2 Axes>"
      ]
     },
     "metadata": {},
     "output_type": "display_data"
    }
   ],
   "source": [
    "cm_display = ConfusionMatrixDisplay(confusion_matrix = cm_rf_female, display_labels = le.classes_)\n",
    "print('FEMALE')\n",
    "cm_display.plot()\n",
    "plt.show()"
   ]
  },
  {
   "cell_type": "markdown",
   "metadata": {},
   "source": [
    "---"
   ]
  },
  {
   "cell_type": "markdown",
   "metadata": {},
   "source": [
    "## 1. Group fairness\n",
    "\n",
    "Since protected and unprotected groups have equal probability of being assigned to the positive predicted class we can say group fairness is satisfied.\n",
    "- Male Group fairness = 33.38%\n",
    "- Male Group fairness = 32.91%"
   ]
  },
  {
   "cell_type": "code",
   "execution_count": 20,
   "metadata": {},
   "outputs": [
    {
     "name": "stdout",
     "output_type": "stream",
     "text": [
      "Probability of M being assigned to positive class = 33.38%\n",
      "Probability of F being assigned to positive class = 32.91%\n"
     ]
    }
   ],
   "source": [
    "print('Probability of M being assigned to positive class = {:.2f}%'.format((len(y_pred_rf_m[y_pred_rf_m==np.where(le.classes_=='Normal')[0]])/len(y_pred_rf_m))*100))\n",
    "\n",
    "print('Probability of F being assigned to positive class = {:.2f}%'.format((len(y_pred_rf_f[y_pred_rf_f==np.where(le.classes_=='Normal')[0]])/len(y_pred_rf_f))*100))"
   ]
  },
  {
   "cell_type": "markdown",
   "metadata": {},
   "source": [
    "---"
   ]
  },
  {
   "cell_type": "markdown",
   "metadata": {},
   "source": [
    "## 2. Conditional statistical parity\n",
    "\n",
    "Since protected and unprotected groups have equal probability of being assigned to the positive predicted class, controlling for a set of legitimate factors L, we can say conditional statistical parity is satisfied.\n",
    "\n",
    "Controlling factors:\n",
    "- Age\n",
    "- Blood Type\n",
    "- Medical Condition\n",
    "- Billing Amount\n",
    "- Admission Type\n",
    "- Medication\n",
    "- Days Spent\n",
    "\n",
    "\n",
    "1. Example 1\n",
    "    - Male Conditional statistical parity = 29.40%\n",
    "    - Female Conditional statistical parity = 29.40%\n",
    "\n",
    "\n",
    "2. Example 2\n",
    "    - Male Conditional statistical parity = 38.00%\n",
    "    - Female Conditional statistical parity = 38.00%"
   ]
  },
  {
   "cell_type": "code",
   "execution_count": 21,
   "metadata": {},
   "outputs": [
    {
     "name": "stdout",
     "output_type": "stream",
     "text": [
      "Probability of M being assigned to positive class, controlling for a set of legitimate factors L = 29.40%\n",
      "Probability of F being assigned to positive class, controlling for a set of legitimate factors L = 29.40%\n"
     ]
    }
   ],
   "source": [
    "conditional_statistical_parity_test_f = copy.deepcopy(X_test_F.iloc[0:1,:])\n",
    "conditional_statistical_parity_test_m = copy.deepcopy(X_test_F.iloc[0:1,:])\n",
    "\n",
    "conditional_statistical_parity_test_m['Gender'] = 'Male'\n",
    "\n",
    "conditional_statistical_parity_test_m = data_pipeline.processs_data(conditional_statistical_parity_test_m, masked_scaler_name, mask=True)\n",
    "conditional_statistical_parity_test_f = data_pipeline.processs_data(conditional_statistical_parity_test_f, masked_scaler_name, mask=True)\n",
    "\n",
    "y_pred_m_1 = final_rf_model.predict_proba(conditional_statistical_parity_test_m)\n",
    "y_pred_f_1 = final_rf_model.predict_proba(conditional_statistical_parity_test_f)\n",
    "\n",
    "print('Probability of M being assigned to positive class, controlling for a set of legitimate factors L = {:.2f}%'.format(float(y_pred_m_1[0][2]*100)))\n",
    "\n",
    "print('Probability of F being assigned to positive class, controlling for a set of legitimate factors L = {:.2f}%'.format(float(y_pred_f_1[0][2]*100)))"
   ]
  },
  {
   "cell_type": "code",
   "execution_count": 22,
   "metadata": {},
   "outputs": [
    {
     "name": "stdout",
     "output_type": "stream",
     "text": [
      "Probability of M being assigned to positive class, controlling for a set of legitimate factors L = 38.00%\n",
      "Probability of F being assigned to positive class, controlling for a set of legitimate factors L = 38.00%\n"
     ]
    }
   ],
   "source": [
    "conditional_statistical_parity_test2_f = copy.deepcopy(X_test_M.iloc[0:1,:])\n",
    "conditional_statistical_parity_test2_m = copy.deepcopy(X_test_M.iloc[0:1,:])\n",
    "\n",
    "conditional_statistical_parity_test2_f['Gender'] = 'Female'\n",
    "\n",
    "conditional_statistical_parity_test2_m = data_pipeline.processs_data(conditional_statistical_parity_test2_m, masked_scaler_name, mask=True)\n",
    "conditional_statistical_parity_test2_f = data_pipeline.processs_data(conditional_statistical_parity_test2_f, masked_scaler_name, mask=True)\n",
    "\n",
    "y_pred_m_2 = final_rf_model.predict_proba(conditional_statistical_parity_test2_m)\n",
    "y_pred_f_2 = final_rf_model.predict_proba(conditional_statistical_parity_test2_f)\n",
    "\n",
    "print('Probability of M being assigned to positive class, controlling for a set of legitimate factors L = {:.2f}%'.format(float(y_pred_m_2[0][2]*100)))\n",
    "\n",
    "print('Probability of F being assigned to positive class, controlling for a set of legitimate factors L = {:.2f}%'.format(float(y_pred_f_2[0][2]*100)))"
   ]
  },
  {
   "cell_type": "markdown",
   "metadata": {},
   "source": [
    "---"
   ]
  },
  {
   "cell_type": "markdown",
   "metadata": {},
   "source": [
    "## 3. Predictive parity\n",
    "\n",
    "### RANDOM FOREST\n",
    "\n",
    "Since protected and unprotected groups **do not** have equal PPV, predictive parity is **not** satisfied.\n",
    "\n",
    "- Male PPV: 0.65%\n",
    "- Female PPV: 0.90%\n",
    "\n",
    "### XGBOOST\n",
    "\n",
    "Since protected and unprotected groups have equal PPV, predictive parity is satisfied.\n",
    "\n",
    "- Male PPV: 0.56%\n",
    "- Female PPV: 0.58%\n",
    "\n",
    "PPV = TP/(TP + FP)"
   ]
  },
  {
   "cell_type": "code",
   "execution_count": 23,
   "metadata": {},
   "outputs": [
    {
     "name": "stdout",
     "output_type": "stream",
     "text": [
      "Male PPV: 0.65%\n",
      "Female PPV: 0.90%\n"
     ]
    }
   ],
   "source": [
    "male_ppv = cm_rf_male[2, 2] / (cm_rf_male[2, 2] + cm_rf_male[1, 2] + cm_rf_male[0, 2])\n",
    "female_ppv = cm_rf_female[2, 2] / (cm_rf_female[2, 2] + cm_rf_female[1, 2] + cm_rf_female[0, 2])\n",
    "\n",
    "print(\"Male PPV: {:.2f}%\".format(male_ppv))\n",
    "print(\"Female PPV: {:.2f}%\".format(female_ppv))"
   ]
  },
  {
   "cell_type": "code",
   "execution_count": 24,
   "metadata": {},
   "outputs": [
    {
     "name": "stdout",
     "output_type": "stream",
     "text": [
      "Male PPV: 0.56%\n",
      "Female PPV: 0.58%\n"
     ]
    }
   ],
   "source": [
    "male_ppv = cm_xgb_male[2, 2] / (cm_xgb_male[2, 2] + cm_xgb_male[1, 2] + cm_xgb_male[0, 2])\n",
    "female_ppv = cm_xgb_female[2, 2] / (cm_xgb_female[2, 2] + cm_xgb_female[1, 2] + cm_xgb_female[0, 2])\n",
    "\n",
    "print(\"Male PPV: {:.2f}%\".format(male_ppv))\n",
    "print(\"Female PPV: {:.2f}%\".format(female_ppv))"
   ]
  },
  {
   "cell_type": "markdown",
   "metadata": {},
   "source": [
    "---"
   ]
  },
  {
   "cell_type": "markdown",
   "metadata": {},
   "source": [
    "## 4. False positive error rate balance\n",
    "\n",
    "### RANDOM FOREST\n",
    "\n",
    "Since protected and unprotected groups **do not** have equal FDR, false positive error rate balance is **not** satisfied.\n",
    "\n",
    "- Male FDR: 0.35%\n",
    "- Female FDR: 0.10%\n",
    "\n",
    "### XGBOOST\n",
    "\n",
    "Since protected and unprotected groups have equal FDR, false positive error rate balance is satisfied.\n",
    "\n",
    "- Male FDR: 0.44%\n",
    "- Female FDR: 0.42%\n",
    "\n",
    "FDR = FP/(TP + FP)"
   ]
  },
  {
   "cell_type": "code",
   "execution_count": 25,
   "metadata": {},
   "outputs": [
    {
     "name": "stdout",
     "output_type": "stream",
     "text": [
      "Male FDR: 0.35%\n",
      "Female FDR: 0.10%\n"
     ]
    }
   ],
   "source": [
    "male_fdr = (cm_rf_male[1, 2] + cm_rf_male[0, 2]) / (cm_rf_male[2, 2] + cm_rf_male[1, 2] + cm_rf_male[0, 2])\n",
    "female_fdr = (cm_rf_female[1, 2] + cm_rf_female[0, 2]) / (cm_rf_female[2, 2] + cm_rf_female[1, 2] + cm_rf_female[0, 2])\n",
    "\n",
    "print(\"Male FDR: {:.2f}%\".format(male_fdr))\n",
    "print(\"Female FDR: {:.2f}%\".format(female_fdr))"
   ]
  },
  {
   "cell_type": "code",
   "execution_count": 26,
   "metadata": {},
   "outputs": [
    {
     "name": "stdout",
     "output_type": "stream",
     "text": [
      "Male FDR: 0.44%\n",
      "Female FDR: 0.42%\n"
     ]
    }
   ],
   "source": [
    "male_fdr = (cm_xgb_male[1, 2] + cm_xgb_male[0, 2]) / (cm_xgb_male[2, 2] + cm_xgb_male[1, 2] + cm_xgb_male[0, 2])\n",
    "female_fdr = (cm_xgb_female[1, 2] + cm_xgb_female[0, 2]) / (cm_xgb_female[2, 2] + cm_xgb_female[1, 2] + cm_xgb_female[0, 2])\n",
    "\n",
    "print(\"Male FDR: {:.2f}%\".format(male_fdr))\n",
    "print(\"Female FDR: {:.2f}%\".format(female_fdr))"
   ]
  },
  {
   "cell_type": "markdown",
   "metadata": {},
   "source": [
    "---"
   ]
  },
  {
   "cell_type": "markdown",
   "metadata": {},
   "source": [
    "## 5. False negative error rate balance\n",
    "\n",
    "### RANDOM FOREST\n",
    "\n",
    "Since protected and unprotected groups **do not** have equal FNR, false negative error rate balance is **not** satisfied.\n",
    "\n",
    "- Male FNR: 0.35%\n",
    "- Female FNR: 0.11%\n",
    "\n",
    "### XGBOOST\n",
    "\n",
    "Since protected and unprotected groups have equal FNR, false negative error rate balance is satisfied.\n",
    "\n",
    "- Male FNR: 0.45%\n",
    "- Female FNR: 0.45%\n",
    "\n",
    "FNR = FN/(TP + FN)"
   ]
  },
  {
   "cell_type": "code",
   "execution_count": 27,
   "metadata": {},
   "outputs": [
    {
     "name": "stdout",
     "output_type": "stream",
     "text": [
      "Male FNR: 0.35%\n",
      "Female FNR: 0.11%\n"
     ]
    }
   ],
   "source": [
    "male_fnr = (cm_rf_male[2, 1] + cm_rf_male[2, 0]) / (cm_rf_male[2, 2] + cm_rf_male[2, 1] + cm_rf_male[2, 0])\n",
    "female_fnr = (cm_rf_female[2, 1] + cm_rf_female[2, 0]) / (cm_rf_female[2, 2] + cm_rf_female[2, 1] + cm_rf_female[2, 0])\n",
    "\n",
    "print(\"Male FNR: {:.2f}%\".format(male_fnr))\n",
    "print(\"Female FNR: {:.2f}%\".format(female_fnr))"
   ]
  },
  {
   "cell_type": "code",
   "execution_count": 28,
   "metadata": {},
   "outputs": [
    {
     "name": "stdout",
     "output_type": "stream",
     "text": [
      "Male FNR: 0.45%\n",
      "Female FNR: 0.45%\n"
     ]
    }
   ],
   "source": [
    "male_fnr = (cm_xgb_male[2, 1] + cm_xgb_male[2, 0]) / (cm_xgb_male[2, 2] + cm_xgb_male[2, 1] + cm_xgb_male[2, 0])\n",
    "female_fnr = (cm_xgb_female[2, 1] + cm_xgb_female[2, 0]) / (cm_xgb_female[2, 2] + cm_xgb_female[2, 1] + cm_xgb_female[2, 0])\n",
    "\n",
    "print(\"Male FNR: {:.2f}%\".format(male_fnr))\n",
    "print(\"Female FNR: {:.2f}%\".format(female_fnr))"
   ]
  },
  {
   "cell_type": "markdown",
   "metadata": {},
   "source": [
    "---"
   ]
  },
  {
   "cell_type": "markdown",
   "metadata": {},
   "source": [
    "## 6. Equalized odds\n",
    "\n",
    "### RANDOM FOREST\n",
    "\n",
    "Since protected and unprotected groups **do not** have equal TPR and FPR, Equalized odds is **not** satisfied.\n",
    "\n",
    "- Male TPR: 0.65%\n",
    "- Female TPR: 0.89%\n",
    "- Male FPR: 0.21%\n",
    "- Female FPR: 0.05%\n",
    "\n",
    "### XGBOOST\n",
    "\n",
    "Since protected and unprotected groups have equal TPR and FPR, Equalized odds is satisfied.\n",
    "\n",
    "- Male TPR: 0.55%\n",
    "- Female TPR: 0.55%\n",
    "- Male FPR: 0.28%\n",
    "- Female FPR: 0.25%\n",
    "\n",
    "TPR = TP/(TP + FN)\n",
    "\n",
    "FPR = FP/(FP + TN)"
   ]
  },
  {
   "cell_type": "code",
   "execution_count": 29,
   "metadata": {},
   "outputs": [
    {
     "name": "stdout",
     "output_type": "stream",
     "text": [
      "Male TPR: 0.65%\n",
      "Female TPR: 0.89%\n",
      "Male FPR: 0.21%\n",
      "Female FPR: 0.05%\n"
     ]
    }
   ],
   "source": [
    "male_tpr = cm_rf_male[2, 2] / (cm_rf_male[2, 2] + cm_rf_male[2, 1] + cm_rf_male[2, 0])\n",
    "female_tpr = cm_rf_female[2, 2] / (cm_rf_female[2, 2] + cm_rf_female[2, 1] + cm_rf_female[2, 0])\n",
    "\n",
    "print(\"Male TPR: {:.2f}%\".format(male_tpr))\n",
    "print(\"Female TPR: {:.2f}%\".format(female_tpr))\n",
    "\n",
    "male_fpr = (cm_rf_male[1, 2] + cm_rf_male[0, 2]) / (cm_rf_male[0, 0] + cm_rf_male[1, 1] + cm_rf_male[1, 2] + cm_rf_male[0, 2])\n",
    "female_fpr = (cm_rf_female[1, 2] + cm_rf_female[0, 2]) / (cm_rf_female[0, 0] + cm_rf_female[1, 1] + cm_rf_female[1, 2] + cm_rf_female[0, 2])\n",
    "\n",
    "print(\"Male FPR: {:.2f}%\".format(male_fpr))\n",
    "print(\"Female FPR: {:.2f}%\".format(female_fpr))"
   ]
  },
  {
   "cell_type": "code",
   "execution_count": 31,
   "metadata": {},
   "outputs": [
    {
     "name": "stdout",
     "output_type": "stream",
     "text": [
      "Male TPR: 0.55%\n",
      "Female TPR: 0.55%\n",
      "Male FPR: 0.28%\n",
      "Female FPR: 0.25%\n"
     ]
    }
   ],
   "source": [
    "male_tpr = cm_xgb_male[2, 2] / (cm_xgb_male[2, 2] + cm_xgb_male[2, 1] + cm_xgb_male[2, 0])\n",
    "female_tpr = cm_xgb_female[2, 2] / (cm_xgb_female[2, 2] + cm_xgb_female[2, 1] + cm_xgb_female[2, 0])\n",
    "\n",
    "print(\"Male TPR: {:.2f}%\".format(male_tpr))\n",
    "print(\"Female TPR: {:.2f}%\".format(female_tpr))\n",
    "\n",
    "male_fpr = (cm_xgb_male[1, 2] + cm_xgb_male[0, 2]) / (cm_xgb_male[0, 0] + cm_xgb_male[1, 1] + cm_xgb_male[1, 2] + cm_xgb_male[0, 2])\n",
    "female_fpr = (cm_xgb_female[1, 2] + cm_xgb_female[0, 2]) / (cm_xgb_female[0, 0] + cm_xgb_female[1, 1] + cm_xgb_female[1, 2] + cm_xgb_female[0, 2])\n",
    "\n",
    "print(\"Male FPR: {:.2f}%\".format(male_fpr))\n",
    "print(\"Female FPR: {:.2f}%\".format(female_fpr))"
   ]
  },
  {
   "cell_type": "markdown",
   "metadata": {},
   "source": [
    "---"
   ]
  },
  {
   "cell_type": "markdown",
   "metadata": {},
   "source": [
    "## 7. Conditional use accuracy equality\n",
    "\n",
    "### RANDOM FOREST\n",
    "\n",
    "Since protected and unprotected groups **do not** have equal NPV, Conditional use accuracy equality is **not** satisfied.\n",
    "\n",
    "- Male FNR: 0.78%\n",
    "- Female FNR: 0.83%\n",
    "\n",
    "### XGBOOST\n",
    "\n",
    "Since protected and unprotected groups have equal TPR and FPR, Conditional use accuracy equality is satisfied.\n",
    "\n",
    "- Male NPV: 0.70%\n",
    "- Female NPV: 0.72%\n",
    "\n",
    "NPV = TN/(TN + FN)"
   ]
  },
  {
   "cell_type": "code",
   "execution_count": 32,
   "metadata": {},
   "outputs": [
    {
     "name": "stdout",
     "output_type": "stream",
     "text": [
      "Male NPV: 0.78%\n",
      "Female NPV: 0.83%\n"
     ]
    }
   ],
   "source": [
    "male_npv = (cm_rf_male[0, 0] + cm_rf_male[1, 1]) / (cm_rf_male[2, 1] + cm_rf_male[2, 0] + cm_rf_male[0, 0] + cm_rf_male[1, 1])\n",
    "female_npv = (cm_rf_female[0, 0] + cm_rf_female[1, 1]) / (cm_rf_male[2, 1] + cm_rf_male[2, 0] + cm_rf_female[0, 0] + cm_rf_female[1, 1])\n",
    "\n",
    "print(\"Male NPV: {:.2f}%\".format(male_npv))\n",
    "print(\"Female NPV: {:.2f}%\".format(female_npv))"
   ]
  },
  {
   "cell_type": "code",
   "execution_count": 33,
   "metadata": {},
   "outputs": [
    {
     "name": "stdout",
     "output_type": "stream",
     "text": [
      "Male NPV: 0.70%\n",
      "Female NPV: 0.72%\n"
     ]
    }
   ],
   "source": [
    "male_npv = (cm_xgb_male[0, 0] + cm_xgb_male[1, 1]) / (cm_xgb_male[2, 1] + cm_xgb_male[2, 0] + cm_xgb_male[0, 0] + cm_xgb_male[1, 1])\n",
    "female_npv = (cm_xgb_female[0, 0] + cm_xgb_female[1, 1]) / (cm_xgb_male[2, 1] + cm_xgb_male[2, 0] + cm_xgb_female[0, 0] + cm_xgb_female[1, 1])\n",
    "\n",
    "print(\"Male NPV: {:.2f}%\".format(male_npv))\n",
    "print(\"Female NPV: {:.2f}%\".format(female_npv))"
   ]
  },
  {
   "cell_type": "markdown",
   "metadata": {},
   "source": [
    "---"
   ]
  }
 ],
 "metadata": {
  "kernelspec": {
   "display_name": ".env",
   "language": "python",
   "name": "python3"
  },
  "language_info": {
   "codemirror_mode": {
    "name": "ipython",
    "version": 3
   },
   "file_extension": ".py",
   "mimetype": "text/x-python",
   "name": "python",
   "nbconvert_exporter": "python",
   "pygments_lexer": "ipython3",
   "version": "3.12.1"
  }
 },
 "nbformat": 4,
 "nbformat_minor": 2
}
